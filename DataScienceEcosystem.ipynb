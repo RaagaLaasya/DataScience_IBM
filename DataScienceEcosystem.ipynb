{
 "cells": [
  {
   "cell_type": "markdown",
   "id": "c33aaefd-c528-44eb-936a-86f2896c1721",
   "metadata": {},
   "source": [
    "# Data Science Tools and Ecosystem"
   ]
  },
  {
   "cell_type": "markdown",
   "id": "fe25c25b-05ac-4815-8ab3-c94f541fe33c",
   "metadata": {},
   "source": [
    "In this notebook, Data Science Tools and Ecosystem are summarized."
   ]
  },
  {
   "cell_type": "markdown",
   "id": "9c981321-ab81-43a1-be11-2769981349ba",
   "metadata": {},
   "source": [
    "**Objectives:**\n",
    "\n",
    "- List popular languages for Data Science.\n",
    "- Introduce common libraries used in Data Science.\n",
    "- Create a table of Data Science tools, including development environments.\n",
    "- Demonstrate examples of evaluating arithmetic expressions in Python.\n",
    "- Explore key takeaways from the course.\n"
   ]
  },
  {
   "cell_type": "markdown",
   "id": "29d996ce-0fe3-46ab-8e76-0ce49730c410",
   "metadata": {},
   "source": [
    "Some of the popular languages that Data Scientists use are:\n",
    "\n",
    "1. **Python:** Widely used for its simplicity, readability, and a vast ecosystem of libraries like NumPy, Pandas, and scikit-learn.\n",
    "\n",
    "2. **R:** Known for its statistical analysis and visualization capabilities, R is commonly used in academia and research.\n",
    "\n",
    "3. **SQL:** Essential for database management and querying. Data scientists often use SQL to retrieve and manipulate data stored in databases.\n",
    "\n",
    "4. **Julia:** Growing in popularity for its high-performance computing capabilities and ease of use in numerical and scientific computing.\n"
   ]
  },
  {
   "cell_type": "markdown",
   "id": "c449c6bd-9f18-4d08-b8aa-29c1bbd0e9ab",
   "metadata": {},
   "source": [
    "Some of the commonly used libraries used by Data Scientists include:\n",
    "\n",
    "1. **NumPy:** A powerful library for numerical operations in Python, providing support for large, multi-dimensional arrays and matrices.\n",
    "\n",
    "2. **Pandas:** An essential library for data manipulation and analysis, offering data structures like DataFrame that simplify working with structured data.\n",
    "\n",
    "3. **Matplotlib:** A popular plotting library in Python used for creating static, interactive, and animated visualizations in various formats.\n",
    "\n",
    "4. **scikit-learn:** A machine learning library that provides simple and efficient tools for data mining and data analysis. It includes various algorithms for classification, regression, clustering, and more.\n",
    "\n",
    "5. **TensorFlow:** An open-source machine learning framework developed by Google, widely used for building and training deep learning models.\n",
    "\n",
    "6. **PyTorch:** Another popular deep learning library that provides a flexible and dynamic computational graph, making it easier to experiment with complex neural network architectures.\n"
   ]
  },
  {
   "cell_type": "markdown",
   "id": "96eda231-af3a-403e-8bc6-2048044cdd78",
   "metadata": {},
   "source": [
    "Some of the data science tools are:\n",
    "\n",
    "| Data Science Tools       |\n",
    "|--------------------------|\n",
    "| Jupyter Notebooks        |\n",
    "| RStudio                  |\n",
    "| VS Code with Python      |\n"
   ]
  },
  {
   "cell_type": "markdown",
   "id": "ab03a262-c78d-41f0-84a1-07c5679237b1",
   "metadata": {},
   "source": [
    "### Below are a few examples of evaluating arithmetic expressions in Python.\n"
   ]
  },
  {
   "cell_type": "code",
   "execution_count": 1,
   "id": "cfa3b448-cdad-446e-895b-0e575c19c3f9",
   "metadata": {
    "tags": []
   },
   "outputs": [
    {
     "data": {
      "text/plain": [
       "17"
      ]
     },
     "execution_count": 1,
     "metadata": {},
     "output_type": "execute_result"
    }
   ],
   "source": [
    "# This a simple arithmetic expression to mutiply then add integers\n",
    "\n",
    "(3*4)+5"
   ]
  },
  {
   "cell_type": "code",
   "execution_count": 2,
   "id": "6a170480-65d1-4653-8666-8f45099d6e1b",
   "metadata": {
    "tags": []
   },
   "outputs": [
    {
     "name": "stdout",
     "output_type": "stream",
     "text": [
      "3.3333333333333335\n"
     ]
    }
   ],
   "source": [
    "# This will convert 200 minutes to hours by dividing by 60.\n",
    "\n",
    "minutes = 200\n",
    "hours = minutes / 60\n",
    "print(hours)\n"
   ]
  },
  {
   "cell_type": "markdown",
   "id": "fa200476-292a-4ec1-8a4a-23ec8e450f71",
   "metadata": {},
   "source": [
    "## Author\n",
    "\n",
    "Kondamudi Raaga Laasya\n"
   ]
  }
 ],
 "metadata": {
  "kernelspec": {
   "display_name": "Python",
   "language": "python",
   "name": "conda-env-python-py"
  },
  "language_info": {
   "codemirror_mode": {
    "name": "ipython",
    "version": 3
   },
   "file_extension": ".py",
   "mimetype": "text/x-python",
   "name": "python",
   "nbconvert_exporter": "python",
   "pygments_lexer": "ipython3",
   "version": "3.7.12"
  }
 },
 "nbformat": 4,
 "nbformat_minor": 5
}
